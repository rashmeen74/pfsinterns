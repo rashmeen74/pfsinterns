{
  "nbformat": 4,
  "nbformat_minor": 0,
  "metadata": {
    "colab": {
      "provenance": []
    },
    "kernelspec": {
      "name": "python3",
      "display_name": "Python 3"
    },
    "language_info": {
      "name": "python"
    }
  },
  "cells": [
    {
      "cell_type": "markdown",
      "source": [
        "**PASSWORD GENERATOR**"
      ],
      "metadata": {
        "id": "zbxBEcvalTfq"
      }
    },
    {
      "cell_type": "code",
      "source": [
        "pip install pyperclip"
      ],
      "metadata": {
        "colab": {
          "base_uri": "https://localhost:8080/"
        },
        "id": "I9jtgDwcIIWi",
        "outputId": "9d8b5bf4-ce37-46cb-acb4-8588ecde4d97"
      },
      "execution_count": 8,
      "outputs": [
        {
          "output_type": "stream",
          "name": "stdout",
          "text": [
            "Requirement already satisfied: pyperclip in /usr/local/lib/python3.10/dist-packages (1.9.0)\n"
          ]
        }
      ]
    },
    {
      "cell_type": "code",
      "execution_count": 9,
      "metadata": {
        "id": "jEHB7BAH-4rh"
      },
      "outputs": [],
      "source": [
        "import string\n",
        "import random\n",
        "import pyperclip"
      ]
    },
    {
      "cell_type": "code",
      "source": [
        "if __name__ == \"__main__\":\n",
        "    paslen = int(input(\"Enter password length: \"))\n",
        "    use_upper = input(\"Include uppercase letters? (y/n): \").lower() == 'y'\n",
        "    use_lower = input(\"Include lowercase letters? (y/n): \").lower() == 'y'\n",
        "    use_digits = input(\"Include digits? (y/n): \").lower() == 'y'\n",
        "    use_special = input(\"Include special characters? (y/n): \").lower() == 'y'\n",
        "\n",
        "    s = []\n",
        "    if use_upper:\n",
        "        s.extend(list(string.ascii_uppercase))\n",
        "    if use_lower:\n",
        "        s.extend(list(string.ascii_lowercase))\n",
        "    if use_digits:\n",
        "        s.extend(list(string.digits))\n",
        "    if use_special:\n",
        "        s.extend(list(string.punctuation))\n",
        "\n",
        "    if not s:\n",
        "        print(\"Error: At least one character set must be selected!\")\n",
        "    else:\n",
        "        password = []\n",
        "        if use_upper:\n",
        "            password.append(random.choice(string.ascii_uppercase))\n",
        "        if use_lower:\n",
        "            password.append(random.choice(string.ascii_lowercase))\n",
        "        if use_digits:\n",
        "            password.append(random.choice(string.digits))\n",
        "        if use_special:\n",
        "            password.append(random.choice(string.punctuation))\n",
        "\n",
        "        password.extend(random.choice(s) for _ in range(paslen - len(password)))\n",
        "        random.shuffle(password)\n",
        "\n",
        "        print(\"Your Password is:\")\n",
        "        print(\"\".join(password))\n",
        "\n",
        "        copy_to_clipboard = input(\"Copy password to clipboard? (y/n): \").lower() == 'y'\n",
        "        if copy_to_clipboard:\n",
        "            pyperclip.copy(\"\".join(password))\n",
        "            print(\"Password copied to clipboard!\")"
      ],
      "metadata": {
        "colab": {
          "base_uri": "https://localhost:8080/"
        },
        "id": "J_vfyd7r_v6l",
        "outputId": "39c2abef-23d9-4025-c2a6-cea165ce0510"
      },
      "execution_count": 10,
      "outputs": [
        {
          "name": "stdout",
          "output_type": "stream",
          "text": [
            "Enter password length: 9\n",
            "Include uppercase letters? (y/n): y\n",
            "Include lowercase letters? (y/n): y\n",
            "Include digits? (y/n): n\n",
            "Include special characters? (y/n): y\n",
            "Your Password is:\n",
            "Y$l`yjmei\n",
            "Copy password to clipboard? (y/n): n\n"
          ]
        }
      ]
    },
    {
      "cell_type": "code",
      "source": [],
      "metadata": {
        "id": "ANuoz7w7BRMt"
      },
      "execution_count": null,
      "outputs": []
    }
  ]
}